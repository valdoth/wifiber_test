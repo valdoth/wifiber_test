{
 "cells": [
  {
   "cell_type": "markdown",
   "metadata": {},
   "source": [
    "# Import librairies"
   ]
  },
  {
   "cell_type": "code",
   "execution_count": 2,
   "metadata": {},
   "outputs": [],
   "source": [
    "import pandas as pd"
   ]
  },
  {
   "cell_type": "markdown",
   "metadata": {},
   "source": [
    "# Traitement"
   ]
  },
  {
   "cell_type": "code",
   "execution_count": null,
   "metadata": {},
   "outputs": [],
   "source": [
    "df = pd.DataFrame()"
   ]
  },
  {
   "cell_type": "code",
   "execution_count": null,
   "metadata": {},
   "outputs": [],
   "source": [
    "jour = {\n",
    "    '4': 30,\n",
    "    '5': 31,\n",
    "    '6': 30,\n",
    "    '7': 31\n",
    "}"
   ]
  },
  {
   "cell_type": "code",
   "execution_count": null,
   "metadata": {},
   "outputs": [],
   "source": [
    "for i in range(4, 8):\n",
    "    for j in range(1, jour[str(i)]+1):\n",
    "        if j < 10:\n",
    "            temp_df = pd.read_csv(\"../data/daily_usage/oma_daily_usage_data_2024-0\" + str(i) + \"-0\" + str(j) + \".csv\", sep=\";\")\n",
    "        else:\n",
    "            temp_df = pd.read_csv(\"../data/daily_usage/oma_daily_usage_data_2024-0\" + str(i) + \"-\" + str(j) + \".csv\", sep=\";\")\n",
    "        df = pd.concat([df, temp_df], ignore_index=True)"
   ]
  },
  {
   "cell_type": "code",
   "execution_count": 10,
   "metadata": {},
   "outputs": [
    {
     "data": {
      "text/html": [
       "<div>\n",
       "<style scoped>\n",
       "    .dataframe tbody tr th:only-of-type {\n",
       "        vertical-align: middle;\n",
       "    }\n",
       "\n",
       "    .dataframe tbody tr th {\n",
       "        vertical-align: top;\n",
       "    }\n",
       "\n",
       "    .dataframe thead th {\n",
       "        text-align: right;\n",
       "    }\n",
       "</style>\n",
       "<table border=\"1\" class=\"dataframe\">\n",
       "  <thead>\n",
       "    <tr style=\"text-align: right;\">\n",
       "      <th></th>\n",
       "      <th>DATE</th>\n",
       "      <th>DA_ID</th>\n",
       "      <th>DA_OFFER</th>\n",
       "      <th>OFFRE</th>\n",
       "      <th>MSISDN</th>\n",
       "      <th>BILL_TYPE</th>\n",
       "      <th>MARKET_TYPE</th>\n",
       "      <th>TARIF_PLAN</th>\n",
       "      <th>OPERATOR</th>\n",
       "      <th>VOLUME</th>\n",
       "      <th>COUNT</th>\n",
       "    </tr>\n",
       "  </thead>\n",
       "  <tbody>\n",
       "    <tr>\n",
       "      <th>0</th>\n",
       "      <td>2024-04-01</td>\n",
       "      <td>99</td>\n",
       "      <td>7016</td>\n",
       "      <td>Facebook flex</td>\n",
       "      <td>261320200001</td>\n",
       "      <td>Prepaid</td>\n",
       "      <td>B2C</td>\n",
       "      <td>IZY</td>\n",
       "      <td>Orange</td>\n",
       "      <td>3240960</td>\n",
       "      <td>7</td>\n",
       "    </tr>\n",
       "    <tr>\n",
       "      <th>1</th>\n",
       "      <td>2024-04-01</td>\n",
       "      <td>1059</td>\n",
       "      <td>3248</td>\n",
       "      <td>Be Connect 550Mo</td>\n",
       "      <td>261320200001</td>\n",
       "      <td>Prepaid</td>\n",
       "      <td>B2C</td>\n",
       "      <td>IZY</td>\n",
       "      <td>Orange</td>\n",
       "      <td>358763520</td>\n",
       "      <td>7</td>\n",
       "    </tr>\n",
       "    <tr>\n",
       "      <th>2</th>\n",
       "      <td>2024-04-01</td>\n",
       "      <td>1082</td>\n",
       "      <td>6134</td>\n",
       "      <td>Be 10000 New : Data</td>\n",
       "      <td>261320200002</td>\n",
       "      <td>Prepaid</td>\n",
       "      <td>B2C</td>\n",
       "      <td>IZY</td>\n",
       "      <td>Orange</td>\n",
       "      <td>2502656</td>\n",
       "      <td>3</td>\n",
       "    </tr>\n",
       "    <tr>\n",
       "      <th>3</th>\n",
       "      <td>2024-04-01</td>\n",
       "      <td>99</td>\n",
       "      <td>7016</td>\n",
       "      <td>Facebook flex</td>\n",
       "      <td>261320200007</td>\n",
       "      <td>Prepaid</td>\n",
       "      <td>B2C</td>\n",
       "      <td>IZY</td>\n",
       "      <td>Orange</td>\n",
       "      <td>836608</td>\n",
       "      <td>12</td>\n",
       "    </tr>\n",
       "    <tr>\n",
       "      <th>4</th>\n",
       "      <td>2024-04-01</td>\n",
       "      <td>1010</td>\n",
       "      <td>3111</td>\n",
       "      <td>Akama Full</td>\n",
       "      <td>261320200007</td>\n",
       "      <td>Prepaid</td>\n",
       "      <td>B2C</td>\n",
       "      <td>IZY</td>\n",
       "      <td>Orange</td>\n",
       "      <td>432138240</td>\n",
       "      <td>11</td>\n",
       "    </tr>\n",
       "  </tbody>\n",
       "</table>\n",
       "</div>"
      ],
      "text/plain": [
       "         DATE  DA_ID  DA_OFFER                OFFRE        MSISDN BILL_TYPE  \\\n",
       "0  2024-04-01     99      7016        Facebook flex  261320200001   Prepaid   \n",
       "1  2024-04-01   1059      3248     Be Connect 550Mo  261320200001   Prepaid   \n",
       "2  2024-04-01   1082      6134  Be 10000 New : Data  261320200002   Prepaid   \n",
       "3  2024-04-01     99      7016        Facebook flex  261320200007   Prepaid   \n",
       "4  2024-04-01   1010      3111           Akama Full  261320200007   Prepaid   \n",
       "\n",
       "  MARKET_TYPE TARIF_PLAN OPERATOR     VOLUME  COUNT  \n",
       "0         B2C        IZY   Orange    3240960      7  \n",
       "1         B2C        IZY   Orange  358763520      7  \n",
       "2         B2C        IZY   Orange    2502656      3  \n",
       "3         B2C        IZY   Orange     836608     12  \n",
       "4         B2C        IZY   Orange  432138240     11  "
      ]
     },
     "execution_count": 10,
     "metadata": {},
     "output_type": "execute_result"
    }
   ],
   "source": [
    "df.head()"
   ]
  },
  {
   "cell_type": "code",
   "execution_count": 11,
   "metadata": {},
   "outputs": [
    {
     "data": {
      "text/plain": [
       "(92095039, 11)"
      ]
     },
     "execution_count": 11,
     "metadata": {},
     "output_type": "execute_result"
    }
   ],
   "source": [
    "df.shape"
   ]
  },
  {
   "cell_type": "code",
   "execution_count": null,
   "metadata": {},
   "outputs": [],
   "source": [
    "df.to_csv(\"../data/daily_usage.csv\", index=False)"
   ]
  },
  {
   "cell_type": "code",
   "execution_count": 15,
   "metadata": {},
   "outputs": [
    {
     "name": "stdout",
     "output_type": "stream",
     "text": [
      "<class 'pandas.core.frame.DataFrame'>\n",
      "RangeIndex: 92095039 entries, 0 to 92095038\n",
      "Data columns (total 11 columns):\n",
      " #   Column       Dtype \n",
      "---  ------       ----- \n",
      " 0   DATE         object\n",
      " 1   DA_ID        int64 \n",
      " 2   DA_OFFER     int64 \n",
      " 3   OFFRE        object\n",
      " 4   MSISDN       int64 \n",
      " 5   BILL_TYPE    object\n",
      " 6   MARKET_TYPE  object\n",
      " 7   TARIF_PLAN   object\n",
      " 8   OPERATOR     object\n",
      " 9   VOLUME       int64 \n",
      " 10  COUNT        int64 \n",
      "dtypes: int64(5), object(6)\n",
      "memory usage: 7.5+ GB\n"
     ]
    }
   ],
   "source": [
    "df.info()"
   ]
  },
  {
   "cell_type": "code",
   "execution_count": null,
   "metadata": {},
   "outputs": [],
   "source": []
  },
  {
   "cell_type": "code",
   "execution_count": null,
   "metadata": {},
   "outputs": [],
   "source": []
  }
 ],
 "metadata": {
  "kernelspec": {
   "display_name": "env",
   "language": "python",
   "name": "python3"
  },
  "language_info": {
   "codemirror_mode": {
    "name": "ipython",
    "version": 3
   },
   "file_extension": ".py",
   "mimetype": "text/x-python",
   "name": "python",
   "nbconvert_exporter": "python",
   "pygments_lexer": "ipython3",
   "version": "3.10.11"
  }
 },
 "nbformat": 4,
 "nbformat_minor": 2
}
