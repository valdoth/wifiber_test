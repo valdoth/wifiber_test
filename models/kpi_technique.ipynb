{
 "cells": [
  {
   "cell_type": "markdown",
   "metadata": {},
   "source": [
    "# Importation des librairies"
   ]
  },
  {
   "cell_type": "code",
   "execution_count": 1,
   "metadata": {},
   "outputs": [],
   "source": [
    "import pandas as pd\n",
    "import openpyxl\n",
    "import numpy as np"
   ]
  },
  {
   "cell_type": "markdown",
   "metadata": {},
   "source": [
    "# Collecte des donnes"
   ]
  },
  {
   "cell_type": "code",
   "execution_count": 2,
   "metadata": {},
   "outputs": [],
   "source": [
    "df_2G = pd.read_excel(\"../data/KPIs Techniques-Juin.xlsx\", sheet_name=\"2G KPIs\")\n",
    "df_3G = pd.read_excel(\"../data/KPIs Techniques-Juin.xlsx\", sheet_name=\"3G KPIs\")\n",
    "df_4G = pd.read_excel(\"../data/KPIs Techniques-Juin.xlsx\", sheet_name=\"4G KPIs\")"
   ]
  },
  {
   "cell_type": "code",
   "execution_count": 3,
   "metadata": {},
   "outputs": [],
   "source": [
    "df_2G.to_csv(\"../data/kpi_2G.csv\", index=False)\n",
    "df_3G.to_csv(\"../data/kpi_3G.csv\", index=False)\n",
    "df_4G.to_csv(\"../data/kpi_4G.csv\", index=False)"
   ]
  },
  {
   "cell_type": "code",
   "execution_count": 4,
   "metadata": {},
   "outputs": [],
   "source": [
    "df_2G = pd.read_csv(\"../data/kpi_2G.csv\")\n",
    "df_3G = pd.read_csv(\"../data/kpi_3G.csv\")\n",
    "df_4G = pd.read_csv(\"../data/kpi_4G.csv\")"
   ]
  },
  {
   "cell_type": "markdown",
   "metadata": {},
   "source": [
    "### 2G Network\n",
    "\n",
    "- **2G_Network_Availability (%)** : Le pourcentage de temps pendant lequel le réseau 2G est disponible et opérationnel pour les utilisateurs. \n",
    "\n",
    "### 3G Network\n",
    "\n",
    "- **3G_Trafic_Data (Go)** : La quantité totale de données transférées sur le réseau 3G, mesurée en gigaoctets (Go). Cela inclut les téléchargements et les téléversements.\n",
    "\n",
    "- **3G_DL_Ave_User_Throughput (Kbps)** : Le débit moyen de téléchargement par utilisateur sur le réseau 3G, mesuré en kilobits par seconde (Kbps). Il indique la vitesse à laquelle les utilisateurs peuvent télécharger des données.\n",
    "\n",
    "- **3G_UL_Ave_User_Throughput (Kbps)** : Le débit moyen de téléversement par utilisateur sur le réseau 3G, mesuré en kilobits par seconde (Kbps). Il indique la vitesse à laquelle les utilisateurs peuvent téléverser des données.\n",
    "\n",
    "- **3G_Cell_Load (%)** : Le pourcentage de charge des cellules du réseau 3G. Il représente l'utilisation du réseau par rapport à sa capacité maximale.\n",
    "\n",
    "- **3G_Network_Availability (%)** : Le pourcentage de temps pendant lequel le réseau 3G est disponible et opérationnel pour les utilisateurs.\n",
    "\n",
    "### 4G Network\n",
    "\n",
    "- **4G_Trafic_Data (Go)** : La quantité totale de données transférées sur le réseau 4G, mesurée en gigaoctets (Go). Cela inclut les téléchargements et les téléversements.\n",
    "\n",
    "- **4G_DL_Ave_User_Throughput (Kbps)** : Le débit moyen de téléchargement par utilisateur sur le réseau 4G, mesuré en kilobits par seconde (Kbps). Il indique la vitesse à laquelle les utilisateurs peuvent télécharger des données.\n",
    "\n",
    "- **4G_UL_Ave_User_Throughput (Kbps)** : Le débit moyen de téléversement par utilisateur sur le réseau 4G, mesuré en kilobits par seconde (Kbps). Il indique la vitesse à laquelle les utilisateurs peuvent téléverser des données.\n",
    "\n",
    "- **4G_DL_Cell_Load (%)** : Le pourcentage de charge des cellules pour les téléchargements sur le réseau 4G. Il représente l'utilisation du réseau par rapport à sa capacité maximale pour les téléchargements.\n",
    "\n",
    "- **4G_UL_Cell_Load (%)** : Le pourcentage de charge des cellules pour les téléversements sur le réseau 4G. Il représente l'utilisation du réseau par rapport à sa capacité maximale pour les téléversements.\n",
    "\n",
    "- **4G_Network_Availability (%)** : Le pourcentage de temps pendant lequel le réseau 4G est disponible et opérationnel pour les utilisateurs.\n"
   ]
  },
  {
   "cell_type": "markdown",
   "metadata": {},
   "source": [
    "# Exploration et visualisation des données"
   ]
  },
  {
   "cell_type": "markdown",
   "metadata": {},
   "source": [
    "## 2G"
   ]
  },
  {
   "cell_type": "code",
   "execution_count": 5,
   "metadata": {},
   "outputs": [
    {
     "data": {
      "text/html": [
       "<div>\n",
       "<style scoped>\n",
       "    .dataframe tbody tr th:only-of-type {\n",
       "        vertical-align: middle;\n",
       "    }\n",
       "\n",
       "    .dataframe tbody tr th {\n",
       "        vertical-align: top;\n",
       "    }\n",
       "\n",
       "    .dataframe thead th {\n",
       "        text-align: right;\n",
       "    }\n",
       "</style>\n",
       "<table border=\"1\" class=\"dataframe\">\n",
       "  <thead>\n",
       "    <tr style=\"text-align: right;\">\n",
       "      <th></th>\n",
       "      <th>Date</th>\n",
       "      <th>Cell Name</th>\n",
       "      <th>2G_Network_Availability(%)</th>\n",
       "    </tr>\n",
       "  </thead>\n",
       "  <tbody>\n",
       "    <tr>\n",
       "      <th>0</th>\n",
       "      <td>2024-06-01</td>\n",
       "      <td>C_Mahela_3</td>\n",
       "      <td>0.0</td>\n",
       "    </tr>\n",
       "    <tr>\n",
       "      <th>1</th>\n",
       "      <td>2024-06-01</td>\n",
       "      <td>D_GalaxyTest_1</td>\n",
       "      <td>0.0</td>\n",
       "    </tr>\n",
       "    <tr>\n",
       "      <th>2</th>\n",
       "      <td>2024-06-01</td>\n",
       "      <td>C_MarovoayAnkaraobato_3</td>\n",
       "      <td>100.0</td>\n",
       "    </tr>\n",
       "    <tr>\n",
       "      <th>3</th>\n",
       "      <td>2024-06-01</td>\n",
       "      <td>C_MarovoayAnkaraobato_2</td>\n",
       "      <td>100.0</td>\n",
       "    </tr>\n",
       "    <tr>\n",
       "      <th>4</th>\n",
       "      <td>2024-06-01</td>\n",
       "      <td>C_MarovoayAnkaraobato_1</td>\n",
       "      <td>100.0</td>\n",
       "    </tr>\n",
       "  </tbody>\n",
       "</table>\n",
       "</div>"
      ],
      "text/plain": [
       "         Date                Cell Name  2G_Network_Availability(%)\n",
       "0  2024-06-01               C_Mahela_3                         0.0\n",
       "1  2024-06-01           D_GalaxyTest_1                         0.0\n",
       "2  2024-06-01  C_MarovoayAnkaraobato_3                       100.0\n",
       "3  2024-06-01  C_MarovoayAnkaraobato_2                       100.0\n",
       "4  2024-06-01  C_MarovoayAnkaraobato_1                       100.0"
      ]
     },
     "execution_count": 5,
     "metadata": {},
     "output_type": "execute_result"
    }
   ],
   "source": [
    "df_2G.head()"
   ]
  },
  {
   "cell_type": "code",
   "execution_count": 6,
   "metadata": {},
   "outputs": [
    {
     "name": "stdout",
     "output_type": "stream",
     "text": [
      "<class 'pandas.core.frame.DataFrame'>\n",
      "RangeIndex: 129063 entries, 0 to 129062\n",
      "Data columns (total 3 columns):\n",
      " #   Column                      Non-Null Count   Dtype  \n",
      "---  ------                      --------------   -----  \n",
      " 0   Date                        129063 non-null  object \n",
      " 1   Cell Name                   129063 non-null  object \n",
      " 2   2G_Network_Availability(%)  129063 non-null  float64\n",
      "dtypes: float64(1), object(2)\n",
      "memory usage: 3.0+ MB\n"
     ]
    }
   ],
   "source": [
    "df_2G.info()"
   ]
  },
  {
   "cell_type": "code",
   "execution_count": 7,
   "metadata": {},
   "outputs": [
    {
     "data": {
      "text/plain": [
       "(129063, 3)"
      ]
     },
     "execution_count": 7,
     "metadata": {},
     "output_type": "execute_result"
    }
   ],
   "source": [
    "df_2G.shape"
   ]
  },
  {
   "cell_type": "code",
   "execution_count": 8,
   "metadata": {},
   "outputs": [
    {
     "data": {
      "text/html": [
       "<div>\n",
       "<style scoped>\n",
       "    .dataframe tbody tr th:only-of-type {\n",
       "        vertical-align: middle;\n",
       "    }\n",
       "\n",
       "    .dataframe tbody tr th {\n",
       "        vertical-align: top;\n",
       "    }\n",
       "\n",
       "    .dataframe thead th {\n",
       "        text-align: right;\n",
       "    }\n",
       "</style>\n",
       "<table border=\"1\" class=\"dataframe\">\n",
       "  <thead>\n",
       "    <tr style=\"text-align: right;\">\n",
       "      <th></th>\n",
       "      <th>2G_Network_Availability(%)</th>\n",
       "    </tr>\n",
       "  </thead>\n",
       "  <tbody>\n",
       "    <tr>\n",
       "      <th>count</th>\n",
       "      <td>129063.000000</td>\n",
       "    </tr>\n",
       "    <tr>\n",
       "      <th>mean</th>\n",
       "      <td>98.955097</td>\n",
       "    </tr>\n",
       "    <tr>\n",
       "      <th>std</th>\n",
       "      <td>6.786968</td>\n",
       "    </tr>\n",
       "    <tr>\n",
       "      <th>min</th>\n",
       "      <td>0.000000</td>\n",
       "    </tr>\n",
       "    <tr>\n",
       "      <th>25%</th>\n",
       "      <td>100.000000</td>\n",
       "    </tr>\n",
       "    <tr>\n",
       "      <th>50%</th>\n",
       "      <td>100.000000</td>\n",
       "    </tr>\n",
       "    <tr>\n",
       "      <th>75%</th>\n",
       "      <td>100.000000</td>\n",
       "    </tr>\n",
       "    <tr>\n",
       "      <th>max</th>\n",
       "      <td>100.000000</td>\n",
       "    </tr>\n",
       "  </tbody>\n",
       "</table>\n",
       "</div>"
      ],
      "text/plain": [
       "       2G_Network_Availability(%)\n",
       "count               129063.000000\n",
       "mean                    98.955097\n",
       "std                      6.786968\n",
       "min                      0.000000\n",
       "25%                    100.000000\n",
       "50%                    100.000000\n",
       "75%                    100.000000\n",
       "max                    100.000000"
      ]
     },
     "execution_count": 8,
     "metadata": {},
     "output_type": "execute_result"
    }
   ],
   "source": [
    "df_2G.describe()"
   ]
  },
  {
   "cell_type": "code",
   "execution_count": 9,
   "metadata": {},
   "outputs": [
    {
     "data": {
      "text/plain": [
       "(117174, 3)"
      ]
     },
     "execution_count": 9,
     "metadata": {},
     "output_type": "execute_result"
    }
   ],
   "source": [
    "df_2G[df_2G[\"2G_Network_Availability(%)\"] == 100].shape"
   ]
  },
  {
   "cell_type": "code",
   "execution_count": 10,
   "metadata": {},
   "outputs": [
    {
     "data": {
      "text/plain": [
       "4320"
      ]
     },
     "execution_count": 10,
     "metadata": {},
     "output_type": "execute_result"
    }
   ],
   "source": [
    "df_2G[\"Cell Name\"].unique().size"
   ]
  },
  {
   "cell_type": "code",
   "execution_count": 11,
   "metadata": {},
   "outputs": [
    {
     "data": {
      "text/html": [
       "<div>\n",
       "<style scoped>\n",
       "    .dataframe tbody tr th:only-of-type {\n",
       "        vertical-align: middle;\n",
       "    }\n",
       "\n",
       "    .dataframe tbody tr th {\n",
       "        vertical-align: top;\n",
       "    }\n",
       "\n",
       "    .dataframe thead th {\n",
       "        text-align: right;\n",
       "    }\n",
       "</style>\n",
       "<table border=\"1\" class=\"dataframe\">\n",
       "  <thead>\n",
       "    <tr style=\"text-align: right;\">\n",
       "      <th></th>\n",
       "      <th></th>\n",
       "      <th>2G_Network_Availability(%)</th>\n",
       "    </tr>\n",
       "    <tr>\n",
       "      <th>Cell Name</th>\n",
       "      <th>Date</th>\n",
       "      <th></th>\n",
       "    </tr>\n",
       "  </thead>\n",
       "  <tbody>\n",
       "    <tr>\n",
       "      <th rowspan=\"5\" valign=\"top\">C_67HaCentre_1</th>\n",
       "      <th>2024-06-01</th>\n",
       "      <td>100.0</td>\n",
       "    </tr>\n",
       "    <tr>\n",
       "      <th>2024-06-02</th>\n",
       "      <td>100.0</td>\n",
       "    </tr>\n",
       "    <tr>\n",
       "      <th>2024-06-03</th>\n",
       "      <td>100.0</td>\n",
       "    </tr>\n",
       "    <tr>\n",
       "      <th>2024-06-04</th>\n",
       "      <td>100.0</td>\n",
       "    </tr>\n",
       "    <tr>\n",
       "      <th>2024-06-05</th>\n",
       "      <td>100.0</td>\n",
       "    </tr>\n",
       "    <tr>\n",
       "      <th>...</th>\n",
       "      <th>...</th>\n",
       "      <td>...</td>\n",
       "    </tr>\n",
       "    <tr>\n",
       "      <th rowspan=\"5\" valign=\"top\">D_ZitalTest_1</th>\n",
       "      <th>2024-06-26</th>\n",
       "      <td>0.0</td>\n",
       "    </tr>\n",
       "    <tr>\n",
       "      <th>2024-06-27</th>\n",
       "      <td>0.0</td>\n",
       "    </tr>\n",
       "    <tr>\n",
       "      <th>2024-06-28</th>\n",
       "      <td>0.0</td>\n",
       "    </tr>\n",
       "    <tr>\n",
       "      <th>2024-06-29</th>\n",
       "      <td>0.0</td>\n",
       "    </tr>\n",
       "    <tr>\n",
       "      <th>2024-06-30</th>\n",
       "      <td>0.0</td>\n",
       "    </tr>\n",
       "  </tbody>\n",
       "</table>\n",
       "<p>129060 rows × 1 columns</p>\n",
       "</div>"
      ],
      "text/plain": [
       "                           2G_Network_Availability(%)\n",
       "Cell Name      Date                                  \n",
       "C_67HaCentre_1 2024-06-01                       100.0\n",
       "               2024-06-02                       100.0\n",
       "               2024-06-03                       100.0\n",
       "               2024-06-04                       100.0\n",
       "               2024-06-05                       100.0\n",
       "...                                               ...\n",
       "D_ZitalTest_1  2024-06-26                         0.0\n",
       "               2024-06-27                         0.0\n",
       "               2024-06-28                         0.0\n",
       "               2024-06-29                         0.0\n",
       "               2024-06-30                         0.0\n",
       "\n",
       "[129060 rows x 1 columns]"
      ]
     },
     "execution_count": 11,
     "metadata": {},
     "output_type": "execute_result"
    }
   ],
   "source": [
    "df_2G.groupby(by=[\"Cell Name\", \"Date\"]).agg(\"sum\")"
   ]
  },
  {
   "cell_type": "code",
   "execution_count": 12,
   "metadata": {},
   "outputs": [
    {
     "data": {
      "text/html": [
       "<div>\n",
       "<style scoped>\n",
       "    .dataframe tbody tr th:only-of-type {\n",
       "        vertical-align: middle;\n",
       "    }\n",
       "\n",
       "    .dataframe tbody tr th {\n",
       "        vertical-align: top;\n",
       "    }\n",
       "\n",
       "    .dataframe thead th {\n",
       "        text-align: right;\n",
       "    }\n",
       "</style>\n",
       "<table border=\"1\" class=\"dataframe\">\n",
       "  <thead>\n",
       "    <tr style=\"text-align: right;\">\n",
       "      <th></th>\n",
       "      <th>Date</th>\n",
       "      <th>Cell Name</th>\n",
       "      <th>2G_Network_Availability(%)</th>\n",
       "    </tr>\n",
       "  </thead>\n",
       "  <tbody>\n",
       "    <tr>\n",
       "      <th>2137</th>\n",
       "      <td>2024-06-01</td>\n",
       "      <td>C_TamaMangarano2_2</td>\n",
       "      <td>100.0</td>\n",
       "    </tr>\n",
       "    <tr>\n",
       "      <th>2138</th>\n",
       "      <td>2024-06-01</td>\n",
       "      <td>C_TamaMangarano2_3</td>\n",
       "      <td>100.0</td>\n",
       "    </tr>\n",
       "    <tr>\n",
       "      <th>2139</th>\n",
       "      <td>2024-06-01</td>\n",
       "      <td>C_TamaMangarano2_1</td>\n",
       "      <td>100.0</td>\n",
       "    </tr>\n",
       "    <tr>\n",
       "      <th>2457</th>\n",
       "      <td>2024-06-01</td>\n",
       "      <td>D_TamaMangarano2_3</td>\n",
       "      <td>100.0</td>\n",
       "    </tr>\n",
       "    <tr>\n",
       "      <th>2458</th>\n",
       "      <td>2024-06-01</td>\n",
       "      <td>D_TamaMangarano2_2</td>\n",
       "      <td>100.0</td>\n",
       "    </tr>\n",
       "    <tr>\n",
       "      <th>...</th>\n",
       "      <td>...</td>\n",
       "      <td>...</td>\n",
       "      <td>...</td>\n",
       "    </tr>\n",
       "    <tr>\n",
       "      <th>126896</th>\n",
       "      <td>2024-06-30</td>\n",
       "      <td>C_TamaMangarano2_3</td>\n",
       "      <td>100.0</td>\n",
       "    </tr>\n",
       "    <tr>\n",
       "      <th>126897</th>\n",
       "      <td>2024-06-30</td>\n",
       "      <td>C_TamaMangarano2_1</td>\n",
       "      <td>100.0</td>\n",
       "    </tr>\n",
       "    <tr>\n",
       "      <th>127215</th>\n",
       "      <td>2024-06-30</td>\n",
       "      <td>D_TamaMangarano2_3</td>\n",
       "      <td>100.0</td>\n",
       "    </tr>\n",
       "    <tr>\n",
       "      <th>127216</th>\n",
       "      <td>2024-06-30</td>\n",
       "      <td>D_TamaMangarano2_2</td>\n",
       "      <td>100.0</td>\n",
       "    </tr>\n",
       "    <tr>\n",
       "      <th>127217</th>\n",
       "      <td>2024-06-30</td>\n",
       "      <td>D_TamaMangarano2_1</td>\n",
       "      <td>100.0</td>\n",
       "    </tr>\n",
       "  </tbody>\n",
       "</table>\n",
       "<p>180 rows × 3 columns</p>\n",
       "</div>"
      ],
      "text/plain": [
       "              Date           Cell Name  2G_Network_Availability(%)\n",
       "2137    2024-06-01  C_TamaMangarano2_2                       100.0\n",
       "2138    2024-06-01  C_TamaMangarano2_3                       100.0\n",
       "2139    2024-06-01  C_TamaMangarano2_1                       100.0\n",
       "2457    2024-06-01  D_TamaMangarano2_3                       100.0\n",
       "2458    2024-06-01  D_TamaMangarano2_2                       100.0\n",
       "...            ...                 ...                         ...\n",
       "126896  2024-06-30  C_TamaMangarano2_3                       100.0\n",
       "126897  2024-06-30  C_TamaMangarano2_1                       100.0\n",
       "127215  2024-06-30  D_TamaMangarano2_3                       100.0\n",
       "127216  2024-06-30  D_TamaMangarano2_2                       100.0\n",
       "127217  2024-06-30  D_TamaMangarano2_1                       100.0\n",
       "\n",
       "[180 rows x 3 columns]"
      ]
     },
     "execution_count": 12,
     "metadata": {},
     "output_type": "execute_result"
    }
   ],
   "source": [
    "df_2G[df_2G[\"Cell Name\"].str.contains(\"TamaMangarano2\")]"
   ]
  },
  {
   "cell_type": "markdown",
   "metadata": {},
   "source": [
    "## 3G"
   ]
  },
  {
   "cell_type": "code",
   "execution_count": 13,
   "metadata": {},
   "outputs": [
    {
     "data": {
      "text/html": [
       "<div>\n",
       "<style scoped>\n",
       "    .dataframe tbody tr th:only-of-type {\n",
       "        vertical-align: middle;\n",
       "    }\n",
       "\n",
       "    .dataframe tbody tr th {\n",
       "        vertical-align: top;\n",
       "    }\n",
       "\n",
       "    .dataframe thead th {\n",
       "        text-align: right;\n",
       "    }\n",
       "</style>\n",
       "<table border=\"1\" class=\"dataframe\">\n",
       "  <thead>\n",
       "    <tr style=\"text-align: right;\">\n",
       "      <th></th>\n",
       "      <th>Date</th>\n",
       "      <th>Cell Name</th>\n",
       "      <th>3G_Trafic_Data (Go)</th>\n",
       "      <th>3G_DL_Ave_User_Throughput (Kbps)</th>\n",
       "      <th>3G_UL_Ave_User_Throughput (Kbps)</th>\n",
       "      <th>3G_Cell_Load (%)</th>\n",
       "      <th>3G_Network_Availability(%)</th>\n",
       "    </tr>\n",
       "  </thead>\n",
       "  <tbody>\n",
       "    <tr>\n",
       "      <th>0</th>\n",
       "      <td>2024-06-01</td>\n",
       "      <td>W_TanaFasankarana_3</td>\n",
       "      <td>0.6992</td>\n",
       "      <td>1598.8455</td>\n",
       "      <td>194.481</td>\n",
       "      <td>0.1181</td>\n",
       "      <td>100</td>\n",
       "    </tr>\n",
       "    <tr>\n",
       "      <th>1</th>\n",
       "      <td>2024-06-01</td>\n",
       "      <td>W_TanaFasankarana_2</td>\n",
       "      <td>0.9014</td>\n",
       "      <td>1402.5235</td>\n",
       "      <td>118.0978</td>\n",
       "      <td>0.2488</td>\n",
       "      <td>100</td>\n",
       "    </tr>\n",
       "    <tr>\n",
       "      <th>2</th>\n",
       "      <td>2024-06-01</td>\n",
       "      <td>W_FortDuchesne_3</td>\n",
       "      <td>13.9149</td>\n",
       "      <td>2265.6837</td>\n",
       "      <td>187.1592</td>\n",
       "      <td>7.4906</td>\n",
       "      <td>100</td>\n",
       "    </tr>\n",
       "    <tr>\n",
       "      <th>3</th>\n",
       "      <td>2024-06-01</td>\n",
       "      <td>W_FortDuchesne_2</td>\n",
       "      <td>11.8682</td>\n",
       "      <td>1788.784</td>\n",
       "      <td>132.0525</td>\n",
       "      <td>5.9953</td>\n",
       "      <td>100</td>\n",
       "    </tr>\n",
       "    <tr>\n",
       "      <th>4</th>\n",
       "      <td>2024-06-01</td>\n",
       "      <td>W_TanaManakambahiny_3</td>\n",
       "      <td>0.4643</td>\n",
       "      <td>3625.2285</td>\n",
       "      <td>214.2679</td>\n",
       "      <td>0.0081</td>\n",
       "      <td>100</td>\n",
       "    </tr>\n",
       "  </tbody>\n",
       "</table>\n",
       "</div>"
      ],
      "text/plain": [
       "         Date              Cell Name 3G_Trafic_Data (Go)  \\\n",
       "0  2024-06-01    W_TanaFasankarana_3              0.6992   \n",
       "1  2024-06-01    W_TanaFasankarana_2              0.9014   \n",
       "2  2024-06-01       W_FortDuchesne_3             13.9149   \n",
       "3  2024-06-01       W_FortDuchesne_2             11.8682   \n",
       "4  2024-06-01  W_TanaManakambahiny_3              0.4643   \n",
       "\n",
       "  3G_DL_Ave_User_Throughput (Kbps) 3G_UL_Ave_User_Throughput (Kbps)  \\\n",
       "0                        1598.8455                          194.481   \n",
       "1                        1402.5235                         118.0978   \n",
       "2                        2265.6837                         187.1592   \n",
       "3                         1788.784                         132.0525   \n",
       "4                        3625.2285                         214.2679   \n",
       "\n",
       "  3G_Cell_Load (%) 3G_Network_Availability(%)  \n",
       "0           0.1181                        100  \n",
       "1           0.2488                        100  \n",
       "2           7.4906                        100  \n",
       "3           5.9953                        100  \n",
       "4           0.0081                        100  "
      ]
     },
     "execution_count": 13,
     "metadata": {},
     "output_type": "execute_result"
    }
   ],
   "source": [
    "df_3G.head()"
   ]
  },
  {
   "cell_type": "markdown",
   "metadata": {},
   "source": [
    "## 4G"
   ]
  },
  {
   "cell_type": "code",
   "execution_count": 14,
   "metadata": {},
   "outputs": [
    {
     "data": {
      "text/html": [
       "<div>\n",
       "<style scoped>\n",
       "    .dataframe tbody tr th:only-of-type {\n",
       "        vertical-align: middle;\n",
       "    }\n",
       "\n",
       "    .dataframe tbody tr th {\n",
       "        vertical-align: top;\n",
       "    }\n",
       "\n",
       "    .dataframe thead th {\n",
       "        text-align: right;\n",
       "    }\n",
       "</style>\n",
       "<table border=\"1\" class=\"dataframe\">\n",
       "  <thead>\n",
       "    <tr style=\"text-align: right;\">\n",
       "      <th></th>\n",
       "      <th>Date</th>\n",
       "      <th>Cell Name</th>\n",
       "      <th>Cell FDD TDD Indication</th>\n",
       "      <th>4G_Trafic_Data (Go)</th>\n",
       "      <th>4G_DL_Ave_User_Throughput (Kbps)</th>\n",
       "      <th>4G_UL_Ave_User_Throughput (Kbps)</th>\n",
       "      <th>4G_DL_Cell_Load (%)</th>\n",
       "      <th>4G_UL_Cell_Load (%)</th>\n",
       "      <th>4G_Network_Availability(%)</th>\n",
       "    </tr>\n",
       "  </thead>\n",
       "  <tbody>\n",
       "    <tr>\n",
       "      <th>0</th>\n",
       "      <td>2024-06-01</td>\n",
       "      <td>T_TanaAndohatanjona_1</td>\n",
       "      <td>CELL_TDD</td>\n",
       "      <td>83.0943</td>\n",
       "      <td>23626.9070</td>\n",
       "      <td>3622.4640</td>\n",
       "      <td>18.7628</td>\n",
       "      <td>28.5540</td>\n",
       "      <td>100.0</td>\n",
       "    </tr>\n",
       "    <tr>\n",
       "      <th>1</th>\n",
       "      <td>2024-06-01</td>\n",
       "      <td>T_TanaAndohatanjona_2</td>\n",
       "      <td>CELL_TDD</td>\n",
       "      <td>139.6015</td>\n",
       "      <td>7700.5350</td>\n",
       "      <td>4069.6121</td>\n",
       "      <td>49.4627</td>\n",
       "      <td>45.4267</td>\n",
       "      <td>100.0</td>\n",
       "    </tr>\n",
       "    <tr>\n",
       "      <th>2</th>\n",
       "      <td>2024-06-01</td>\n",
       "      <td>T_TanaAndohatanjona_3</td>\n",
       "      <td>CELL_TDD</td>\n",
       "      <td>218.3368</td>\n",
       "      <td>9392.8293</td>\n",
       "      <td>3668.5915</td>\n",
       "      <td>58.0216</td>\n",
       "      <td>72.5194</td>\n",
       "      <td>100.0</td>\n",
       "    </tr>\n",
       "    <tr>\n",
       "      <th>3</th>\n",
       "      <td>2024-06-01</td>\n",
       "      <td>A_TanaAndohatanjona_3</td>\n",
       "      <td>CELL_FDD</td>\n",
       "      <td>72.3886</td>\n",
       "      <td>12305.8003</td>\n",
       "      <td>2254.8017</td>\n",
       "      <td>26.5454</td>\n",
       "      <td>17.9133</td>\n",
       "      <td>100.0</td>\n",
       "    </tr>\n",
       "    <tr>\n",
       "      <th>4</th>\n",
       "      <td>2024-06-01</td>\n",
       "      <td>A_TanaAndohatanjona_2</td>\n",
       "      <td>CELL_FDD</td>\n",
       "      <td>154.1476</td>\n",
       "      <td>18299.0706</td>\n",
       "      <td>2645.4102</td>\n",
       "      <td>33.3550</td>\n",
       "      <td>25.6232</td>\n",
       "      <td>100.0</td>\n",
       "    </tr>\n",
       "  </tbody>\n",
       "</table>\n",
       "</div>"
      ],
      "text/plain": [
       "         Date              Cell Name Cell FDD TDD Indication  \\\n",
       "0  2024-06-01  T_TanaAndohatanjona_1                CELL_TDD   \n",
       "1  2024-06-01  T_TanaAndohatanjona_2                CELL_TDD   \n",
       "2  2024-06-01  T_TanaAndohatanjona_3                CELL_TDD   \n",
       "3  2024-06-01  A_TanaAndohatanjona_3                CELL_FDD   \n",
       "4  2024-06-01  A_TanaAndohatanjona_2                CELL_FDD   \n",
       "\n",
       "   4G_Trafic_Data (Go)  4G_DL_Ave_User_Throughput (Kbps)  \\\n",
       "0              83.0943                        23626.9070   \n",
       "1             139.6015                         7700.5350   \n",
       "2             218.3368                         9392.8293   \n",
       "3              72.3886                        12305.8003   \n",
       "4             154.1476                        18299.0706   \n",
       "\n",
       "   4G_UL_Ave_User_Throughput (Kbps)  4G_DL_Cell_Load (%)  4G_UL_Cell_Load (%)  \\\n",
       "0                         3622.4640              18.7628              28.5540   \n",
       "1                         4069.6121              49.4627              45.4267   \n",
       "2                         3668.5915              58.0216              72.5194   \n",
       "3                         2254.8017              26.5454              17.9133   \n",
       "4                         2645.4102              33.3550              25.6232   \n",
       "\n",
       "   4G_Network_Availability(%)  \n",
       "0                       100.0  \n",
       "1                       100.0  \n",
       "2                       100.0  \n",
       "3                       100.0  \n",
       "4                       100.0  "
      ]
     },
     "execution_count": 14,
     "metadata": {},
     "output_type": "execute_result"
    }
   ],
   "source": [
    "df_4G.head()"
   ]
  },
  {
   "cell_type": "code",
   "execution_count": null,
   "metadata": {},
   "outputs": [],
   "source": []
  }
 ],
 "metadata": {
  "kernelspec": {
   "display_name": "env",
   "language": "python",
   "name": "python3"
  },
  "language_info": {
   "codemirror_mode": {
    "name": "ipython",
    "version": 3
   },
   "file_extension": ".py",
   "mimetype": "text/x-python",
   "name": "python",
   "nbconvert_exporter": "python",
   "pygments_lexer": "ipython3",
   "version": "3.10.11"
  }
 },
 "nbformat": 4,
 "nbformat_minor": 2
}
